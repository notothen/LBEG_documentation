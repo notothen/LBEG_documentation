{
 "cells": [
  {
   "cell_type": "code",
   "execution_count": null,
   "id": "seeing-south",
   "metadata": {},
   "outputs": [],
   "source": [
    "import ipyrad.analysis as ipa\n",
    "import pandas as pd"
   ]
  },
  {
   "cell_type": "code",
   "execution_count": null,
   "id": "virgin-uzbekistan",
   "metadata": {},
   "outputs": [],
   "source": [
    "%%bash\n",
    "\n",
    "module purge\n",
    "module load BCFtools/1.9-foss-2018a\n",
    "\n",
    "cd /path/to/the/directory/containing/your/file/\n",
    "\n",
    "# Compress the VCF file (creates .vcf.gz)\n",
    "bgzip your_file.vcf"
   ]
  },
  {
   "cell_type": "code",
   "execution_count": null,
   "id": "guilty-defeat",
   "metadata": {},
   "outputs": [],
   "source": [
    "# Initialize a conversion tool\n",
    "converter = ipa.vcf_to_hdf5(\n",
    "    name=\"meaningful_name\",\n",
    "    data=\"/path/to/your/file.vcf.gz\",\n",
    "    ld_block_size=20000,\n",
    ")\n",
    "\n",
    "# Run the converter\n",
    "converter.run()"
   ]
  }
 ],
 "metadata": {
  "kernelspec": {
   "display_name": "Python 3",
   "language": "python",
   "name": "python3"
  },
  "language_info": {
   "codemirror_mode": {
    "name": "ipython",
    "version": 3
   },
   "file_extension": ".py",
   "mimetype": "text/x-python",
   "name": "python",
   "nbconvert_exporter": "python",
   "pygments_lexer": "ipython3",
   "version": "3.8.5"
  }
 },
 "nbformat": 4,
 "nbformat_minor": 5
}

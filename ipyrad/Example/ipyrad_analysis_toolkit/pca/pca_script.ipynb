{
 "cells": [
  {
   "cell_type": "code",
   "execution_count": null,
   "id": "cross-steal",
   "metadata": {},
   "outputs": [],
   "source": [
    "import ipyrad.analysis as ipa\n",
    "import pandas as pd\n",
    "import toyplot"
   ]
  },
  {
   "cell_type": "code",
   "execution_count": null,
   "id": "accredited-class",
   "metadata": {},
   "outputs": [],
   "source": [
    "# Setup the path to your hdf5 file\n",
    "data = \"/path/to/your/file.snps.hdf5\""
   ]
  },
  {
   "cell_type": "code",
   "execution_count": null,
   "id": "innovative-convergence",
   "metadata": {},
   "outputs": [],
   "source": [
    "# Group individuals into populations\n",
    "imap = {\n",
    "    \"pop1\": [\"ind1\", \"ind2\"],\n",
    "    \"pop2\": [\"ind3\", \"ind4\", \"ind5\", \"ind6\", \"ind7\", \"ind8\"],\n",
    "    \"pop3\": [\"ind9\", \"ind10\", \"ind11\", \"ind12\", \"ind13\"],\n",
    "    \"pop4\": [\"ind14\", \"ind15\", \"ind16\", \"ind17\", \"ind18\", \"ind19\", \"ind20\"],\n",
    "}\n",
    "\n",
    "# Require that 50% of samples have data in each group\n",
    "minmap = {i: 0.5 for i in imap}"
   ]
  },
  {
   "cell_type": "code",
   "execution_count": null,
   "id": "colored-factory",
   "metadata": {},
   "outputs": [],
   "source": [
    "# Initiate pca with input data and (optional) parameter options\n",
    "pca = ipa.pca(\n",
    "    data=data,\n",
    "    imap=imap,\n",
    "    minmap=minmap,\n",
    "    mincov=0.75,\n",
    "    impute_method=\"sample\",\n",
    ")"
   ]
  },
  {
   "cell_type": "code",
   "execution_count": null,
   "id": "convertible-training",
   "metadata": {},
   "outputs": [],
   "source": [
    "# Run the PCA\n",
    "pca.run()\n",
    "\n",
    "# Plot PC axes 0 and 1\n",
    "pca.draw(0, 1);"
   ]
  },
  {
   "cell_type": "code",
   "execution_count": null,
   "id": "underlying-power",
   "metadata": {},
   "outputs": [],
   "source": [
    "# Plot PC axes 0 and 1 with 25 replicate runs\n",
    "pca.run(nreplicates=25, seed=12345)\n",
    "pca.draw(0, 1);"
   ]
  },
  {
   "cell_type": "code",
   "execution_count": null,
   "id": "nervous-tunnel",
   "metadata": {},
   "outputs": [],
   "source": [
    "# Save your plot as PDF\n",
    "pca.draw(0, 1, outfile=\"/path/to/your/output.pdf\");"
   ]
  }
 ],
 "metadata": {
  "kernelspec": {
   "display_name": "Python 3",
   "language": "python",
   "name": "python3"
  },
  "language_info": {
   "codemirror_mode": {
    "name": "ipython",
    "version": 3
   },
   "file_extension": ".py",
   "mimetype": "text/x-python",
   "name": "python",
   "nbconvert_exporter": "python",
   "pygments_lexer": "ipython3",
   "version": "3.8.5"
  }
 },
 "nbformat": 4,
 "nbformat_minor": 5
}

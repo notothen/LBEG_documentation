{
 "cells": [
  {
   "cell_type": "code",
   "execution_count": null,
   "id": "stunning-poetry",
   "metadata": {},
   "outputs": [],
   "source": [
    "import ipyrad.analysis as ipa\n",
    "import toytree\n",
    "import toyplot\n",
    "import toyplot.pdf"
   ]
  },
  {
   "cell_type": "code",
   "execution_count": null,
   "id": "limited-inventory",
   "metadata": {},
   "outputs": [],
   "source": [
    "# Setup the path to your HDF5 file\n",
    "data = \"/staging/leuven/stg_00026/enora/trem_ipyrad/new_trem/trem_default_popfile_outfiles/trem_default_popfile.snps.hdf5\""
   ]
  },
  {
   "cell_type": "code",
   "execution_count": null,
   "id": "serious-devil",
   "metadata": {},
   "outputs": [],
   "source": [
    "# Group individuals into populations\n",
    "imap = {\n",
    "    \"pop1\": [\"ind1\", \"ind2\"],\n",
    "    \"pop2\": [\"ind3\", \"ind4\", \"ind5\", \"ind6\", \"ind7\", \"ind8\"],\n",
    "    \"pop3\": [\"ind9\", \"ind10\", \"ind11\", \"ind12\", \"ind13\"],\n",
    "    \"pop4\": [\"ind14\", \"ind15\", \"ind16\", \"ind17\", \"ind18\", \"ind19\", \"ind20\"],\n",
    "}\n",
    "\n",
    "# Minimum % of samples that must be present in each SNP from each group\n",
    "minmap = {i: 0.5 for i in imap}"
   ]
  },
  {
   "cell_type": "code",
   "execution_count": null,
   "id": "vital-knitting",
   "metadata": {},
   "outputs": [],
   "source": [
    "# initiate a Treemix analysis object with some parameters arguments\n",
    "tmx = ipa.treemix(\n",
    "    data=data,\n",
    "    imap=imap,\n",
    "    minmap=minmap,\n",
    "    seed=123456,\n",
    "    root=\"pop1\",\n",
    "    m=2,\n",
    ")"
   ]
  },
  {
   "cell_type": "code",
   "execution_count": null,
   "id": "color-reservation",
   "metadata": {},
   "outputs": [],
   "source": [
    "# Run Treemix analysis\n",
    "tmx.run()\n",
    "\n",
    "# Draw resulting tree\n",
    "tmx.draw_tree();"
   ]
  },
  {
   "cell_type": "code",
   "execution_count": null,
   "id": "lesser-victor",
   "metadata": {},
   "outputs": [],
   "source": [
    "# Draw covariance matrix\n",
    "tmx.draw_cov();"
   ]
  },
  {
   "cell_type": "code",
   "execution_count": null,
   "id": "dangerous-charlotte",
   "metadata": {},
   "outputs": [],
   "source": [
    "# Initiate new Treemix analysis to find the best value for m\n",
    "tmx = ipa.treemix(\n",
    "    data=data,\n",
    "    imap=imap,\n",
    "    minmap=minmap,\n",
    "    seed=1234,\n",
    "    root=\"pop1\",\n",
    ")"
   ]
  },
  {
   "cell_type": "code",
   "execution_count": null,
   "id": "insured-lingerie",
   "metadata": {},
   "outputs": [],
   "source": [
    "# Iterate your run with different values of m\n",
    "tests = {}\n",
    "nadmix = [0, 1, 2, 3, 4, 5, 6]\n",
    "\n",
    "for adm in nadmix:\n",
    "    tmx.params.m = adm\n",
    "    tmx.run()\n",
    "    tests[adm] = tmx.results.llik"
   ]
  },
  {
   "cell_type": "code",
   "execution_count": null,
   "id": "unsigned-turkey",
   "metadata": {},
   "outputs": [],
   "source": [
    "# Plot the likelihood for the different values of m\n",
    "toyplot.plot(\n",
    "    nadmix,\n",
    "    [tests[i] for i in nadmix],\n",
    "    width=350,\n",
    "    height=275,\n",
    "    stroke_width=3,\n",
    "    xlabel=\"n admixture edges\",\n",
    "    ylabel=\"ln(likelihood)\",\n",
    ");"
   ]
  },
  {
   "cell_type": "code",
   "execution_count": null,
   "id": "younger-shower",
   "metadata": {},
   "outputs": [],
   "source": [
    "# Initiate a gridded canvas to plot trees on\n",
    "canvas = toyplot.Canvas(width=600, height=700)\n",
    "\n",
    "# Iterate on different set of random SNPs (9 here)\n",
    "for i in range(9):\n",
    "\n",
    "    # Initiate a treemix analysis object with a random seed\n",
    "    tmx = ipa.treemix(\n",
    "        data=data,\n",
    "        imap=imap,\n",
    "        minmap=minmap,\n",
    "        root=\"pop1\",\n",
    "        global_=True,\n",
    "        m=3,\n",
    "        quiet=True\n",
    "    )\n",
    "\n",
    "    # Run model fit\n",
    "    tmx.run()\n",
    "\n",
    "    # Select a plot grid axis and add tree to axes\n",
    "    axes = canvas.cartesian(grid=(3, 3, i))\n",
    "    tmx.draw_tree(axes)"
   ]
  },
  {
   "cell_type": "code",
   "execution_count": null,
   "id": "everyday-christmas",
   "metadata": {},
   "outputs": [],
   "source": [
    "# Save your plot as PDF file\n",
    "toyplot.pdf.render(canvas, \"treemix-trem_default_m3.pdf\")"
   ]
  }
 ],
 "metadata": {
  "kernelspec": {
   "display_name": "Python 3",
   "language": "python",
   "name": "python3"
  },
  "language_info": {
   "codemirror_mode": {
    "name": "ipython",
    "version": 3
   },
   "file_extension": ".py",
   "mimetype": "text/x-python",
   "name": "python",
   "nbconvert_exporter": "python",
   "pygments_lexer": "ipython3",
   "version": "3.8.5"
  }
 },
 "nbformat": 4,
 "nbformat_minor": 5
}

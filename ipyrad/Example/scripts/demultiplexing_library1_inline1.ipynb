{
 "cells": [
  {
   "cell_type": "code",
   "execution_count": null,
   "id": "backed-barrier",
   "metadata": {},
   "outputs": [],
   "source": [
    "## imports\n",
    "import ipyrad as ip\n",
    "import ipyrad.analysis as ipa\n",
    "import ipyparallel as ipp\n",
    "import toyplot"
   ]
  },
  {
   "cell_type": "code",
   "execution_count": null,
   "id": "operating-messenger",
   "metadata": {},
   "outputs": [],
   "source": [
    "## Verify number of cores\n",
    "ipyclient = ipp.Client()\n",
    "print(\"Connected to {} cores\".format(len(ipyclient)))"
   ]
  },
  {
   "cell_type": "code",
   "execution_count": null,
   "id": "broke-coating",
   "metadata": {},
   "outputs": [],
   "source": [
    "# Set up your parameters\n",
    "trem = ip.Assembly(\"trem_lib1_inl1_i7\")\n",
    "trem.params.project_dir = \"/Example/trematomus_results/trem_lib1_inl1_i7\"\n",
    "trem.params.raw_fastq_path = \"/Example/raw/trem_lib1_inl1_R*_.fastq.gz\"\n",
    "trem.params.barcodes_path = \"/Example/info/i7_index_inline1_lib1.txt\"\n",
    "trem.params.datatype = \"pairddrad\"\n",
    "\n",
    "# Set hackers params to demultiplex on i7 index\n",
    "trem.hackersonly.demultiplex_on_i7_tags = True\n",
    "trem.hackersonly.merge_technical_replicates = True\n",
    "\n",
    "# Run the demultiplexing (step 1)\n",
    "all_trem.run(\"1\", ipyclient=ipyclient, force=True)"
   ]
  }
 ],
 "metadata": {
  "kernelspec": {
   "display_name": "Python 3",
   "language": "python",
   "name": "python3"
  },
  "language_info": {
   "codemirror_mode": {
    "name": "ipython",
    "version": 3
   },
   "file_extension": ".py",
   "mimetype": "text/x-python",
   "name": "python",
   "nbconvert_exporter": "python",
   "pygments_lexer": "ipython3",
   "version": "3.8.5"
  }
 },
 "nbformat": 4,
 "nbformat_minor": 5
}
